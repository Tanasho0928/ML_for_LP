{
 "cells": [
  {
   "cell_type": "markdown",
   "metadata": {},
   "source": [
    "\\begin{eqnarray}\n",
    "& \\max . & - x^2 - y^2\\\\\n",
    "&{\\rm s.t.} & x + y - 1 = 0\n",
    "\\end{eqnarray}"
   ]
  },
  {
   "cell_type": "code",
   "execution_count": null,
   "metadata": {},
   "outputs": [],
   "source": [
    "# coding: utf-8\n",
    "\n",
    "import numpy as np\n",
    "%matplotlib inline\n",
    "import matplotlib.pyplot as plt\n",
    "from scipy.optimize import fsolve"
   ]
  },
  {
   "cell_type": "code",
   "execution_count": null,
   "metadata": {},
   "outputs": [],
   "source": [
    "def plot_plane(vrange, inc):\n",
    "    \"\"\"Plot the mesh plane and the constraint equation.\n",
    "    \n",
    "    Args:\n",
    "        vrange: A (min, max) tuple.\n",
    "        inc: The incremental value.\n",
    "\n",
    "    \"\"\"\n",
    "    xmin, xmax = vrange\n",
    "    ymin, ymax = vrange\n",
    "    x = np.arange(xmin+inc, xmax+inc, inc)\n",
    "    y = np.arange(ymin+inc, ymax+inc, inc)\n",
    "    xs, ys = np.meshgrid(x, y)\n",
    "    z = -(xs ** 2) -(ys ** 2)\n",
    "    const_eq = -x + 1\n",
    "    \n",
    "    fig = plt.figure()\n",
    "    ax = fig.add_subplot(1, 1, 1)\n",
    "    plt.imshow(z, cmap=plt.cm.gray)\n",
    "    ax.autoscale(False)\n",
    "    plt.plot(x * x.size, const_eq * y.size + y.size / 2)\n",
    "    plt.colorbar()\n",
    "    plt.title(\"Image plot of $- x^2 - y^2$ and $x + y -1 = 0$\")\n",
    "    plt.gca().invert_yaxis()\n",
    "    plt.show()"
   ]
  },
  {
   "cell_type": "code",
   "execution_count": null,
   "metadata": {
    "scrolled": true
   },
   "outputs": [],
   "source": [
    "plot_plane((-1, 1), 0.1)"
   ]
  },
  {
   "cell_type": "code",
   "execution_count": null,
   "metadata": {},
   "outputs": [],
   "source": [
    "def func(X):\n",
    "    \"\"\"Calculate a value of the method of Lagrange multipliers using given X.\n",
    "    \n",
    "    Args:\n",
    "        X: It consists of x, y, and L(it means lambda, the Lagurange multiplier.)\n",
    "    Retuns:\n",
    "        f: The calculated value.\n",
    "\n",
    "    \"\"\"\n",
    "    x, y, L = X\n",
    "    f = -(x ** 2) - (y ** 2) - L * (x + y - 1)\n",
    "    return f"
   ]
  },
  {
   "cell_type": "code",
   "execution_count": null,
   "metadata": {},
   "outputs": [],
   "source": [
    "def dfunc(X):\n",
    "    \"\"\"Calculate partial derivatives using given X.\n",
    "    \n",
    "    Args:\n",
    "        X: It consists of x, y, and L(it means lambda.)\n",
    "    Retuns:\n",
    "        dLambda: The calculated values of partial derivatives.\n",
    "\n",
    "    \"\"\"\n",
    "    dLambda = np.zeros(len(X))\n",
    "    h = 1e-3\n",
    "    for i in range(len(X)):\n",
    "        dX = np.zeros(len(X))\n",
    "        dX[i] = h\n",
    "        dLambda[i] = (func(X + dX) - func(X - dX)) / (2 * h)\n",
    "    return dLambda"
   ]
  },
  {
   "cell_type": "code",
   "execution_count": null,
   "metadata": {},
   "outputs": [],
   "source": [
    "max_arg = fsolve(dfunc, [-1, -1, 0])\n",
    "print(\"max arguments: x = {0:.2}, y = {1:.2}\".format(max_arg[0], max_arg[1]))\n",
    "print(\"max value: {0:.2}\".format(func(max_arg)))"
   ]
  }
 ],
 "metadata": {
  "kernelspec": {
   "display_name": "Python 3",
   "language": "python",
   "name": "python3"
  },
  "language_info": {
   "codemirror_mode": {
    "name": "ipython",
    "version": 3
   },
   "file_extension": ".py",
   "mimetype": "text/x-python",
   "name": "python",
   "nbconvert_exporter": "python",
   "pygments_lexer": "ipython3",
   "version": "3.5.5"
  }
 },
 "nbformat": 4,
 "nbformat_minor": 2
}
