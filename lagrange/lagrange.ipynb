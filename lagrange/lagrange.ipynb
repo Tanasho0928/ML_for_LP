{
 "cells": [
  {
   "cell_type": "markdown",
   "metadata": {},
   "source": [
    "\\begin{eqnarray}\n",
    "& \\max . & - x^2 - y^2\\\\\n",
    "&{\\rm s.t.} & x + y - 1 = 0\n",
    "\\end{eqnarray}"
   ]
  },
  {
   "cell_type": "code",
   "execution_count": null,
   "metadata": {},
   "outputs": [],
   "source": [
    "# coding: utf-8\n",
    "\n",
    "import numpy as np\n",
    "%matplotlib inline\n",
    "import matplotlib.pyplot as plt"
   ]
  },
  {
   "cell_type": "code",
   "execution_count": null,
   "metadata": {},
   "outputs": [],
   "source": [
    "def plot_plane(vrange, inc):\n",
    "    xmin, xmax = vrange\n",
    "    ymin, ymax = vrange\n",
    "    x = np.arange(xmin+inc, xmax+inc, inc)\n",
    "    y = np.arange(ymin+inc, ymax+inc, inc)\n",
    "    xs, ys = np.meshgrid(x, y)\n",
    "    z = -(xs ** 2) -(ys ** 2)\n",
    "    const_eq = -x + 1\n",
    "    \n",
    "    fig = plt.figure()\n",
    "    ax = fig.add_subplot(1, 1, 1)\n",
    "    plt.imshow(z, cmap=plt.cm.gray)\n",
    "    ax.autoscale(False)\n",
    "    plt.plot(x * x.size, const_eq * y.size + y.size / 2)\n",
    "    plt.colorbar()\n",
    "    plt.title(\"Image plot of $- x^2 - y^2$\")\n",
    "    plt.gca().invert_yaxis()\n",
    "    plt.show()"
   ]
  },
  {
   "cell_type": "code",
   "execution_count": null,
   "metadata": {},
   "outputs": [],
   "source": [
    "plot_plane((-1, 1), 0.1)"
   ]
  }
 ],
 "metadata": {
  "kernelspec": {
   "display_name": "Python 3",
   "language": "python",
   "name": "python3"
  },
  "language_info": {
   "codemirror_mode": {
    "name": "ipython",
    "version": 3
   },
   "file_extension": ".py",
   "mimetype": "text/x-python",
   "name": "python",
   "nbconvert_exporter": "python",
   "pygments_lexer": "ipython3",
   "version": "3.5.4"
  }
 },
 "nbformat": 4,
 "nbformat_minor": 2
}
